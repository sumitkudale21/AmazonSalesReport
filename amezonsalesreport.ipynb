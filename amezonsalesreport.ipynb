{
 "cells": [
  {
   "cell_type": "markdown",
   "metadata": {},
   "source": [
    "## import all the dependencies"
   ]
  },
  {
   "cell_type": "code",
   "execution_count": 1,
   "metadata": {},
   "outputs": [],
   "source": [
    "import pandas as pd\n",
    "import zipfile\n",
    "import numpy as np\n",
    "import matplotlib.pyplot as plt\n",
    "import seaborn as sns\n",
    "import warnings\n",
    "warnings.filterwarnings(\"ignore\")"
   ]
  },
  {
   "cell_type": "markdown",
   "metadata": {},
   "source": [
    "## unzip the files"
   ]
  },
  {
   "cell_type": "code",
   "execution_count": 2,
   "metadata": {},
   "outputs": [],
   "source": [
    "zip_file = 'archive.zip'\n",
    "with zipfile.ZipFile(zip_file, 'r') as zip_ref:\n",
    "    zip_ref.extractall('extracted_data')"
   ]
  },
  {
   "cell_type": "markdown",
   "metadata": {},
   "source": [
    "## load the data"
   ]
  },
  {
   "cell_type": "code",
   "execution_count": 3,
   "metadata": {},
   "outputs": [],
   "source": [
    "df = pd.read_csv('extracted_data/ASR.csv')"
   ]
  },
  {
   "cell_type": "code",
   "execution_count": 4,
   "metadata": {},
   "outputs": [],
   "source": [
    "pd.set_option('display.max_columns',None)"
   ]
  },
  {
   "cell_type": "code",
   "execution_count": 5,
   "metadata": {},
   "outputs": [
    {
     "data": {
      "text/html": [
       "<div>\n",
       "<style scoped>\n",
       "    .dataframe tbody tr th:only-of-type {\n",
       "        vertical-align: middle;\n",
       "    }\n",
       "\n",
       "    .dataframe tbody tr th {\n",
       "        vertical-align: top;\n",
       "    }\n",
       "\n",
       "    .dataframe thead th {\n",
       "        text-align: right;\n",
       "    }\n",
       "</style>\n",
       "<table border=\"1\" class=\"dataframe\">\n",
       "  <thead>\n",
       "    <tr style=\"text-align: right;\">\n",
       "      <th></th>\n",
       "      <th>index</th>\n",
       "      <th>Order ID</th>\n",
       "      <th>Date</th>\n",
       "      <th>Status</th>\n",
       "      <th>Fulfilment</th>\n",
       "      <th>Sales Channel</th>\n",
       "      <th>ship-service-level</th>\n",
       "      <th>Category</th>\n",
       "      <th>Size</th>\n",
       "      <th>Courier Status</th>\n",
       "      <th>Qty</th>\n",
       "      <th>currency</th>\n",
       "      <th>Amount</th>\n",
       "      <th>ship-city</th>\n",
       "      <th>ship-state</th>\n",
       "      <th>ship-postal-code</th>\n",
       "      <th>ship-country</th>\n",
       "      <th>B2B</th>\n",
       "      <th>fulfilled-by</th>\n",
       "      <th>New</th>\n",
       "      <th>PendingS</th>\n",
       "    </tr>\n",
       "  </thead>\n",
       "  <tbody>\n",
       "    <tr>\n",
       "      <th>0</th>\n",
       "      <td>0</td>\n",
       "      <td>405-8078784-5731545</td>\n",
       "      <td>04-30-22</td>\n",
       "      <td>Cancelled</td>\n",
       "      <td>Merchant</td>\n",
       "      <td>Amazon.in</td>\n",
       "      <td>Standard</td>\n",
       "      <td>T-shirt</td>\n",
       "      <td>S</td>\n",
       "      <td>On the Way</td>\n",
       "      <td>0</td>\n",
       "      <td>INR</td>\n",
       "      <td>647.62</td>\n",
       "      <td>MUMBAI</td>\n",
       "      <td>MAHARASHTRA</td>\n",
       "      <td>400081.0</td>\n",
       "      <td>IN</td>\n",
       "      <td>False</td>\n",
       "      <td>Easy Ship</td>\n",
       "      <td>NaN</td>\n",
       "      <td>NaN</td>\n",
       "    </tr>\n",
       "    <tr>\n",
       "      <th>1</th>\n",
       "      <td>1</td>\n",
       "      <td>171-9198151-1101146</td>\n",
       "      <td>04-30-22</td>\n",
       "      <td>Shipped - Delivered to Buyer</td>\n",
       "      <td>Merchant</td>\n",
       "      <td>Amazon.in</td>\n",
       "      <td>Standard</td>\n",
       "      <td>Shirt</td>\n",
       "      <td>3XL</td>\n",
       "      <td>Shipped</td>\n",
       "      <td>1</td>\n",
       "      <td>INR</td>\n",
       "      <td>406.00</td>\n",
       "      <td>BENGALURU</td>\n",
       "      <td>KARNATAKA</td>\n",
       "      <td>560085.0</td>\n",
       "      <td>IN</td>\n",
       "      <td>False</td>\n",
       "      <td>Easy Ship</td>\n",
       "      <td>NaN</td>\n",
       "      <td>NaN</td>\n",
       "    </tr>\n",
       "    <tr>\n",
       "      <th>2</th>\n",
       "      <td>2</td>\n",
       "      <td>404-0687676-7273146</td>\n",
       "      <td>04-30-22</td>\n",
       "      <td>Shipped</td>\n",
       "      <td>Amazon</td>\n",
       "      <td>Amazon.in</td>\n",
       "      <td>Expedited</td>\n",
       "      <td>Shirt</td>\n",
       "      <td>XL</td>\n",
       "      <td>Shipped</td>\n",
       "      <td>1</td>\n",
       "      <td>INR</td>\n",
       "      <td>329.00</td>\n",
       "      <td>NAVI MUMBAI</td>\n",
       "      <td>MAHARASHTRA</td>\n",
       "      <td>410210.0</td>\n",
       "      <td>IN</td>\n",
       "      <td>True</td>\n",
       "      <td>NaN</td>\n",
       "      <td>NaN</td>\n",
       "      <td>NaN</td>\n",
       "    </tr>\n",
       "    <tr>\n",
       "      <th>3</th>\n",
       "      <td>3</td>\n",
       "      <td>403-9615377-8133951</td>\n",
       "      <td>04-30-22</td>\n",
       "      <td>Cancelled</td>\n",
       "      <td>Merchant</td>\n",
       "      <td>Amazon.in</td>\n",
       "      <td>Standard</td>\n",
       "      <td>Blazzer</td>\n",
       "      <td>L</td>\n",
       "      <td>On the Way</td>\n",
       "      <td>0</td>\n",
       "      <td>INR</td>\n",
       "      <td>753.33</td>\n",
       "      <td>PUDUCHERRY</td>\n",
       "      <td>PUDUCHERRY</td>\n",
       "      <td>605008.0</td>\n",
       "      <td>IN</td>\n",
       "      <td>False</td>\n",
       "      <td>Easy Ship</td>\n",
       "      <td>NaN</td>\n",
       "      <td>NaN</td>\n",
       "    </tr>\n",
       "    <tr>\n",
       "      <th>4</th>\n",
       "      <td>4</td>\n",
       "      <td>407-1069790-7240320</td>\n",
       "      <td>04-30-22</td>\n",
       "      <td>Shipped</td>\n",
       "      <td>Amazon</td>\n",
       "      <td>Amazon.in</td>\n",
       "      <td>Expedited</td>\n",
       "      <td>Trousers</td>\n",
       "      <td>3XL</td>\n",
       "      <td>Shipped</td>\n",
       "      <td>1</td>\n",
       "      <td>INR</td>\n",
       "      <td>574.00</td>\n",
       "      <td>CHENNAI</td>\n",
       "      <td>TAMIL NADU</td>\n",
       "      <td>600073.0</td>\n",
       "      <td>IN</td>\n",
       "      <td>False</td>\n",
       "      <td>NaN</td>\n",
       "      <td>NaN</td>\n",
       "      <td>NaN</td>\n",
       "    </tr>\n",
       "  </tbody>\n",
       "</table>\n",
       "</div>"
      ],
      "text/plain": [
       "   index             Order ID      Date                        Status  \\\n",
       "0      0  405-8078784-5731545  04-30-22                     Cancelled   \n",
       "1      1  171-9198151-1101146  04-30-22  Shipped - Delivered to Buyer   \n",
       "2      2  404-0687676-7273146  04-30-22                       Shipped   \n",
       "3      3  403-9615377-8133951  04-30-22                     Cancelled   \n",
       "4      4  407-1069790-7240320  04-30-22                       Shipped   \n",
       "\n",
       "  Fulfilment Sales Channel ship-service-level  Category Size Courier Status  \\\n",
       "0   Merchant     Amazon.in           Standard   T-shirt    S     On the Way   \n",
       "1   Merchant     Amazon.in           Standard     Shirt  3XL        Shipped   \n",
       "2     Amazon     Amazon.in          Expedited     Shirt   XL        Shipped   \n",
       "3   Merchant     Amazon.in           Standard   Blazzer    L     On the Way   \n",
       "4     Amazon     Amazon.in          Expedited  Trousers  3XL        Shipped   \n",
       "\n",
       "   Qty currency  Amount    ship-city   ship-state  ship-postal-code  \\\n",
       "0    0      INR  647.62       MUMBAI  MAHARASHTRA          400081.0   \n",
       "1    1      INR  406.00    BENGALURU    KARNATAKA          560085.0   \n",
       "2    1      INR  329.00  NAVI MUMBAI  MAHARASHTRA          410210.0   \n",
       "3    0      INR  753.33   PUDUCHERRY   PUDUCHERRY          605008.0   \n",
       "4    1      INR  574.00      CHENNAI   TAMIL NADU          600073.0   \n",
       "\n",
       "  ship-country    B2B fulfilled-by  New  PendingS  \n",
       "0           IN  False    Easy Ship  NaN       NaN  \n",
       "1           IN  False    Easy Ship  NaN       NaN  \n",
       "2           IN   True          NaN  NaN       NaN  \n",
       "3           IN  False    Easy Ship  NaN       NaN  \n",
       "4           IN  False          NaN  NaN       NaN  "
      ]
     },
     "execution_count": 5,
     "metadata": {},
     "output_type": "execute_result"
    }
   ],
   "source": [
    "df.head()"
   ]
  },
  {
   "cell_type": "code",
   "execution_count": 6,
   "metadata": {},
   "outputs": [
    {
     "data": {
      "text/plain": [
       "(128976, 21)"
      ]
     },
     "execution_count": 6,
     "metadata": {},
     "output_type": "execute_result"
    }
   ],
   "source": [
    "df.shape"
   ]
  },
  {
   "cell_type": "code",
   "execution_count": 7,
   "metadata": {},
   "outputs": [
    {
     "data": {
      "text/plain": [
       "index                 128808\n",
       "Order ID              120229\n",
       "Date                      91\n",
       "Status                    13\n",
       "Fulfilment                 2\n",
       "Sales Channel              2\n",
       "ship-service-level         2\n",
       "Category                   9\n",
       "Size                      11\n",
       "Courier Status             4\n",
       "Qty                       10\n",
       "currency                   1\n",
       "Amount                  1408\n",
       "ship-city               8948\n",
       "ship-state                69\n",
       "ship-postal-code        9454\n",
       "ship-country               1\n",
       "B2B                        2\n",
       "fulfilled-by               1\n",
       "New                        0\n",
       "PendingS                   0\n",
       "dtype: int64"
      ]
     },
     "execution_count": 7,
     "metadata": {},
     "output_type": "execute_result"
    }
   ],
   "source": [
    "df.nunique()"
   ]
  },
  {
   "cell_type": "code",
   "execution_count": 8,
   "metadata": {},
   "outputs": [
    {
     "data": {
      "text/plain": [
       "Index(['index', 'Order ID', 'Date', 'Status', 'Fulfilment', 'Sales Channel',\n",
       "       'ship-service-level', 'Category', 'Size', 'Courier Status', 'Qty',\n",
       "       'currency', 'Amount', 'ship-city', 'ship-state', 'ship-postal-code',\n",
       "       'ship-country', 'B2B', 'fulfilled-by', 'New', 'PendingS'],\n",
       "      dtype='object')"
      ]
     },
     "execution_count": 8,
     "metadata": {},
     "output_type": "execute_result"
    }
   ],
   "source": [
    "df.columns"
   ]
  },
  {
   "cell_type": "markdown",
   "metadata": {},
   "source": [
    "## droped some unwanted columns"
   ]
  },
  {
   "cell_type": "code",
   "execution_count": 9,
   "metadata": {},
   "outputs": [],
   "source": [
    "df = df.drop(['New', 'PendingS', 'fulfilled-by', 'index', 'currency','ship-country', 'B2B'], axis=1)"
   ]
  },
  {
   "cell_type": "code",
   "execution_count": 10,
   "metadata": {},
   "outputs": [
    {
     "data": {
      "text/plain": [
       "(128976, 14)"
      ]
     },
     "execution_count": 10,
     "metadata": {},
     "output_type": "execute_result"
    }
   ],
   "source": [
    "df.shape"
   ]
  },
  {
   "cell_type": "code",
   "execution_count": 11,
   "metadata": {},
   "outputs": [
    {
     "data": {
      "text/html": [
       "<div>\n",
       "<style scoped>\n",
       "    .dataframe tbody tr th:only-of-type {\n",
       "        vertical-align: middle;\n",
       "    }\n",
       "\n",
       "    .dataframe tbody tr th {\n",
       "        vertical-align: top;\n",
       "    }\n",
       "\n",
       "    .dataframe thead th {\n",
       "        text-align: right;\n",
       "    }\n",
       "</style>\n",
       "<table border=\"1\" class=\"dataframe\">\n",
       "  <thead>\n",
       "    <tr style=\"text-align: right;\">\n",
       "      <th></th>\n",
       "      <th>Order ID</th>\n",
       "      <th>Date</th>\n",
       "      <th>Status</th>\n",
       "      <th>Fulfilment</th>\n",
       "      <th>Sales Channel</th>\n",
       "      <th>ship-service-level</th>\n",
       "      <th>Category</th>\n",
       "      <th>Size</th>\n",
       "      <th>Courier Status</th>\n",
       "      <th>Qty</th>\n",
       "      <th>Amount</th>\n",
       "      <th>ship-city</th>\n",
       "      <th>ship-state</th>\n",
       "      <th>ship-postal-code</th>\n",
       "    </tr>\n",
       "  </thead>\n",
       "  <tbody>\n",
       "    <tr>\n",
       "      <th>0</th>\n",
       "      <td>405-8078784-5731545</td>\n",
       "      <td>04-30-22</td>\n",
       "      <td>Cancelled</td>\n",
       "      <td>Merchant</td>\n",
       "      <td>Amazon.in</td>\n",
       "      <td>Standard</td>\n",
       "      <td>T-shirt</td>\n",
       "      <td>S</td>\n",
       "      <td>On the Way</td>\n",
       "      <td>0</td>\n",
       "      <td>647.62</td>\n",
       "      <td>MUMBAI</td>\n",
       "      <td>MAHARASHTRA</td>\n",
       "      <td>400081.0</td>\n",
       "    </tr>\n",
       "    <tr>\n",
       "      <th>1</th>\n",
       "      <td>171-9198151-1101146</td>\n",
       "      <td>04-30-22</td>\n",
       "      <td>Shipped - Delivered to Buyer</td>\n",
       "      <td>Merchant</td>\n",
       "      <td>Amazon.in</td>\n",
       "      <td>Standard</td>\n",
       "      <td>Shirt</td>\n",
       "      <td>3XL</td>\n",
       "      <td>Shipped</td>\n",
       "      <td>1</td>\n",
       "      <td>406.00</td>\n",
       "      <td>BENGALURU</td>\n",
       "      <td>KARNATAKA</td>\n",
       "      <td>560085.0</td>\n",
       "    </tr>\n",
       "  </tbody>\n",
       "</table>\n",
       "</div>"
      ],
      "text/plain": [
       "              Order ID      Date                        Status Fulfilment  \\\n",
       "0  405-8078784-5731545  04-30-22                     Cancelled   Merchant   \n",
       "1  171-9198151-1101146  04-30-22  Shipped - Delivered to Buyer   Merchant   \n",
       "\n",
       "  Sales Channel ship-service-level Category Size Courier Status  Qty  Amount  \\\n",
       "0     Amazon.in           Standard  T-shirt    S     On the Way    0  647.62   \n",
       "1     Amazon.in           Standard    Shirt  3XL        Shipped    1  406.00   \n",
       "\n",
       "   ship-city   ship-state  ship-postal-code  \n",
       "0     MUMBAI  MAHARASHTRA          400081.0  \n",
       "1  BENGALURU    KARNATAKA          560085.0  "
      ]
     },
     "execution_count": 11,
     "metadata": {},
     "output_type": "execute_result"
    }
   ],
   "source": [
    "df.head(2)"
   ]
  },
  {
   "cell_type": "code",
   "execution_count": 12,
   "metadata": {},
   "outputs": [
    {
     "name": "stdout",
     "output_type": "stream",
     "text": [
      "<class 'pandas.core.frame.DataFrame'>\n",
      "RangeIndex: 128976 entries, 0 to 128975\n",
      "Data columns (total 14 columns):\n",
      " #   Column              Non-Null Count   Dtype  \n",
      "---  ------              --------------   -----  \n",
      " 0   Order ID            128976 non-null  object \n",
      " 1   Date                128976 non-null  object \n",
      " 2   Status              128976 non-null  object \n",
      " 3   Fulfilment          128976 non-null  object \n",
      " 4   Sales Channel       128976 non-null  object \n",
      " 5   ship-service-level  128976 non-null  object \n",
      " 6   Category            128976 non-null  object \n",
      " 7   Size                128976 non-null  object \n",
      " 8   Courier Status      128976 non-null  object \n",
      " 9   Qty                 128976 non-null  int64  \n",
      " 10  Amount              121176 non-null  float64\n",
      " 11  ship-city           128941 non-null  object \n",
      " 12  ship-state          128941 non-null  object \n",
      " 13  ship-postal-code    128941 non-null  float64\n",
      "dtypes: float64(2), int64(1), object(11)\n",
      "memory usage: 13.8+ MB\n"
     ]
    }
   ],
   "source": [
    "df.info()"
   ]
  },
  {
   "cell_type": "markdown",
   "metadata": {},
   "source": [
    "## check null and duplicates values"
   ]
  },
  {
   "cell_type": "code",
   "execution_count": 13,
   "metadata": {},
   "outputs": [
    {
     "data": {
      "text/plain": [
       "Order ID                 0\n",
       "Date                     0\n",
       "Status                   0\n",
       "Fulfilment               0\n",
       "Sales Channel            0\n",
       "ship-service-level       0\n",
       "Category                 0\n",
       "Size                     0\n",
       "Courier Status           0\n",
       "Qty                      0\n",
       "Amount                7800\n",
       "ship-city               35\n",
       "ship-state              35\n",
       "ship-postal-code        35\n",
       "dtype: int64"
      ]
     },
     "execution_count": 13,
     "metadata": {},
     "output_type": "execute_result"
    }
   ],
   "source": [
    "df.isnull().sum()"
   ]
  },
  {
   "cell_type": "code",
   "execution_count": 14,
   "metadata": {},
   "outputs": [
    {
     "data": {
      "text/plain": [
       "np.int64(959)"
      ]
     },
     "execution_count": 14,
     "metadata": {},
     "output_type": "execute_result"
    }
   ],
   "source": [
    "df.duplicated().sum()"
   ]
  },
  {
   "cell_type": "markdown",
   "metadata": {},
   "source": [
    "## Order_ID"
   ]
  },
  {
   "cell_type": "code",
   "execution_count": 15,
   "metadata": {},
   "outputs": [],
   "source": [
    "#403-9386300-6961110\n",
    "import re\n",
    "diff_formate = []\n",
    "pattern = r'^\\d{3}-\\d{7}-\\d{7}$'\n",
    "for formate in df['Order ID']:\n",
    "    if not re.match(pattern, formate):\n",
    "        diff_formate.append(formate)\n",
    "        "
   ]
  },
  {
   "cell_type": "code",
   "execution_count": 16,
   "metadata": {},
   "outputs": [
    {
     "data": {
      "text/plain": [
       "['S02-5278980-4327051',\n",
       " 'S02-9107114-0460608',\n",
       " 'S02-1006261-5356758',\n",
       " 'S02-3681731-6111841',\n",
       " 'S02-1926028-4838217']"
      ]
     },
     "execution_count": 16,
     "metadata": {},
     "output_type": "execute_result"
    }
   ],
   "source": [
    "diff_formate[:5]"
   ]
  },
  {
   "cell_type": "code",
   "execution_count": 17,
   "metadata": {},
   "outputs": [
    {
     "data": {
      "text/plain": [
       "124"
      ]
     },
     "execution_count": 17,
     "metadata": {},
     "output_type": "execute_result"
    }
   ],
   "source": [
    "len(diff_formate)"
   ]
  },
  {
   "cell_type": "code",
   "execution_count": 18,
   "metadata": {},
   "outputs": [],
   "source": [
    "df = df[~df['Order ID'].isin(diff_formate)]"
   ]
  },
  {
   "cell_type": "code",
   "execution_count": 19,
   "metadata": {},
   "outputs": [],
   "source": [
    "df['Order ID'] = df['Order ID'].str.replace('-','')\n",
    "df['Order ID'] = df['Order ID'].astype(int)"
   ]
  },
  {
   "cell_type": "code",
   "execution_count": 20,
   "metadata": {},
   "outputs": [
    {
     "name": "stdout",
     "output_type": "stream",
     "text": [
      "<class 'pandas.core.series.Series'>\n",
      "Index: 128852 entries, 0 to 128975\n",
      "Series name: Order ID\n",
      "Non-Null Count   Dtype\n",
      "--------------   -----\n",
      "128852 non-null  int64\n",
      "dtypes: int64(1)\n",
      "memory usage: 2.0 MB\n"
     ]
    }
   ],
   "source": [
    "df['Order ID'].info()"
   ]
  },
  {
   "cell_type": "markdown",
   "metadata": {},
   "source": [
    "## Date"
   ]
  },
  {
   "cell_type": "code",
   "execution_count": 21,
   "metadata": {},
   "outputs": [],
   "source": [
    "df['Date'] = pd.to_datetime(df['Date'])"
   ]
  },
  {
   "cell_type": "code",
   "execution_count": 22,
   "metadata": {},
   "outputs": [
    {
     "name": "stdout",
     "output_type": "stream",
     "text": [
      "<class 'pandas.core.frame.DataFrame'>\n",
      "Index: 128852 entries, 0 to 128975\n",
      "Data columns (total 14 columns):\n",
      " #   Column              Non-Null Count   Dtype         \n",
      "---  ------              --------------   -----         \n",
      " 0   Order ID            128852 non-null  int64         \n",
      " 1   Date                128852 non-null  datetime64[ns]\n",
      " 2   Status              128852 non-null  object        \n",
      " 3   Fulfilment          128852 non-null  object        \n",
      " 4   Sales Channel       128852 non-null  object        \n",
      " 5   ship-service-level  128852 non-null  object        \n",
      " 6   Category            128852 non-null  object        \n",
      " 7   Size                128852 non-null  object        \n",
      " 8   Courier Status      128852 non-null  object        \n",
      " 9   Qty                 128852 non-null  int64         \n",
      " 10  Amount              121176 non-null  float64       \n",
      " 11  ship-city           128817 non-null  object        \n",
      " 12  ship-state          128817 non-null  object        \n",
      " 13  ship-postal-code    128817 non-null  float64       \n",
      "dtypes: datetime64[ns](1), float64(2), int64(2), object(9)\n",
      "memory usage: 14.7+ MB\n"
     ]
    }
   ],
   "source": [
    "df.info()"
   ]
  },
  {
   "cell_type": "code",
   "execution_count": 23,
   "metadata": {},
   "outputs": [
    {
     "data": {
      "text/html": [
       "<div>\n",
       "<style scoped>\n",
       "    .dataframe tbody tr th:only-of-type {\n",
       "        vertical-align: middle;\n",
       "    }\n",
       "\n",
       "    .dataframe tbody tr th {\n",
       "        vertical-align: top;\n",
       "    }\n",
       "\n",
       "    .dataframe thead th {\n",
       "        text-align: right;\n",
       "    }\n",
       "</style>\n",
       "<table border=\"1\" class=\"dataframe\">\n",
       "  <thead>\n",
       "    <tr style=\"text-align: right;\">\n",
       "      <th></th>\n",
       "      <th>Order ID</th>\n",
       "      <th>Date</th>\n",
       "      <th>Status</th>\n",
       "      <th>Fulfilment</th>\n",
       "      <th>Sales Channel</th>\n",
       "      <th>ship-service-level</th>\n",
       "      <th>Category</th>\n",
       "      <th>Size</th>\n",
       "      <th>Courier Status</th>\n",
       "      <th>Qty</th>\n",
       "      <th>Amount</th>\n",
       "      <th>ship-city</th>\n",
       "      <th>ship-state</th>\n",
       "      <th>ship-postal-code</th>\n",
       "    </tr>\n",
       "  </thead>\n",
       "  <tbody>\n",
       "    <tr>\n",
       "      <th>0</th>\n",
       "      <td>40580787845731545</td>\n",
       "      <td>2022-04-30</td>\n",
       "      <td>Cancelled</td>\n",
       "      <td>Merchant</td>\n",
       "      <td>Amazon.in</td>\n",
       "      <td>Standard</td>\n",
       "      <td>T-shirt</td>\n",
       "      <td>S</td>\n",
       "      <td>On the Way</td>\n",
       "      <td>0</td>\n",
       "      <td>647.62</td>\n",
       "      <td>MUMBAI</td>\n",
       "      <td>MAHARASHTRA</td>\n",
       "      <td>400081.0</td>\n",
       "    </tr>\n",
       "    <tr>\n",
       "      <th>1</th>\n",
       "      <td>17191981511101146</td>\n",
       "      <td>2022-04-30</td>\n",
       "      <td>Shipped - Delivered to Buyer</td>\n",
       "      <td>Merchant</td>\n",
       "      <td>Amazon.in</td>\n",
       "      <td>Standard</td>\n",
       "      <td>Shirt</td>\n",
       "      <td>3XL</td>\n",
       "      <td>Shipped</td>\n",
       "      <td>1</td>\n",
       "      <td>406.00</td>\n",
       "      <td>BENGALURU</td>\n",
       "      <td>KARNATAKA</td>\n",
       "      <td>560085.0</td>\n",
       "    </tr>\n",
       "  </tbody>\n",
       "</table>\n",
       "</div>"
      ],
      "text/plain": [
       "            Order ID       Date                        Status Fulfilment  \\\n",
       "0  40580787845731545 2022-04-30                     Cancelled   Merchant   \n",
       "1  17191981511101146 2022-04-30  Shipped - Delivered to Buyer   Merchant   \n",
       "\n",
       "  Sales Channel ship-service-level Category Size Courier Status  Qty  Amount  \\\n",
       "0     Amazon.in           Standard  T-shirt    S     On the Way    0  647.62   \n",
       "1     Amazon.in           Standard    Shirt  3XL        Shipped    1  406.00   \n",
       "\n",
       "   ship-city   ship-state  ship-postal-code  \n",
       "0     MUMBAI  MAHARASHTRA          400081.0  \n",
       "1  BENGALURU    KARNATAKA          560085.0  "
      ]
     },
     "execution_count": 23,
     "metadata": {},
     "output_type": "execute_result"
    }
   ],
   "source": [
    "df.head(2)"
   ]
  },
  {
   "cell_type": "code",
   "execution_count": 24,
   "metadata": {},
   "outputs": [],
   "source": [
    "df['year'] = df['Date'].dt.year\n",
    "df['month'] = df['Date'].dt.month\n",
    "df['day'] = df['Date'].dt.day\n",
    "df = df.drop('Date', axis=1)"
   ]
  },
  {
   "cell_type": "code",
   "execution_count": 25,
   "metadata": {},
   "outputs": [
    {
     "data": {
      "text/html": [
       "<div>\n",
       "<style scoped>\n",
       "    .dataframe tbody tr th:only-of-type {\n",
       "        vertical-align: middle;\n",
       "    }\n",
       "\n",
       "    .dataframe tbody tr th {\n",
       "        vertical-align: top;\n",
       "    }\n",
       "\n",
       "    .dataframe thead th {\n",
       "        text-align: right;\n",
       "    }\n",
       "</style>\n",
       "<table border=\"1\" class=\"dataframe\">\n",
       "  <thead>\n",
       "    <tr style=\"text-align: right;\">\n",
       "      <th></th>\n",
       "      <th>Order ID</th>\n",
       "      <th>Status</th>\n",
       "      <th>Fulfilment</th>\n",
       "      <th>Sales Channel</th>\n",
       "      <th>ship-service-level</th>\n",
       "      <th>Category</th>\n",
       "      <th>Size</th>\n",
       "      <th>Courier Status</th>\n",
       "      <th>Qty</th>\n",
       "      <th>Amount</th>\n",
       "      <th>ship-city</th>\n",
       "      <th>ship-state</th>\n",
       "      <th>ship-postal-code</th>\n",
       "      <th>year</th>\n",
       "      <th>month</th>\n",
       "      <th>day</th>\n",
       "    </tr>\n",
       "  </thead>\n",
       "  <tbody>\n",
       "    <tr>\n",
       "      <th>0</th>\n",
       "      <td>40580787845731545</td>\n",
       "      <td>Cancelled</td>\n",
       "      <td>Merchant</td>\n",
       "      <td>Amazon.in</td>\n",
       "      <td>Standard</td>\n",
       "      <td>T-shirt</td>\n",
       "      <td>S</td>\n",
       "      <td>On the Way</td>\n",
       "      <td>0</td>\n",
       "      <td>647.62</td>\n",
       "      <td>MUMBAI</td>\n",
       "      <td>MAHARASHTRA</td>\n",
       "      <td>400081.0</td>\n",
       "      <td>2022</td>\n",
       "      <td>4</td>\n",
       "      <td>30</td>\n",
       "    </tr>\n",
       "    <tr>\n",
       "      <th>1</th>\n",
       "      <td>17191981511101146</td>\n",
       "      <td>Shipped - Delivered to Buyer</td>\n",
       "      <td>Merchant</td>\n",
       "      <td>Amazon.in</td>\n",
       "      <td>Standard</td>\n",
       "      <td>Shirt</td>\n",
       "      <td>3XL</td>\n",
       "      <td>Shipped</td>\n",
       "      <td>1</td>\n",
       "      <td>406.00</td>\n",
       "      <td>BENGALURU</td>\n",
       "      <td>KARNATAKA</td>\n",
       "      <td>560085.0</td>\n",
       "      <td>2022</td>\n",
       "      <td>4</td>\n",
       "      <td>30</td>\n",
       "    </tr>\n",
       "  </tbody>\n",
       "</table>\n",
       "</div>"
      ],
      "text/plain": [
       "            Order ID                        Status Fulfilment Sales Channel  \\\n",
       "0  40580787845731545                     Cancelled   Merchant     Amazon.in   \n",
       "1  17191981511101146  Shipped - Delivered to Buyer   Merchant     Amazon.in   \n",
       "\n",
       "  ship-service-level Category Size Courier Status  Qty  Amount  ship-city  \\\n",
       "0           Standard  T-shirt    S     On the Way    0  647.62     MUMBAI   \n",
       "1           Standard    Shirt  3XL        Shipped    1  406.00  BENGALURU   \n",
       "\n",
       "    ship-state  ship-postal-code  year  month  day  \n",
       "0  MAHARASHTRA          400081.0  2022      4   30  \n",
       "1    KARNATAKA          560085.0  2022      4   30  "
      ]
     },
     "execution_count": 25,
     "metadata": {},
     "output_type": "execute_result"
    }
   ],
   "source": [
    "df.head(2)"
   ]
  },
  {
   "cell_type": "markdown",
   "metadata": {},
   "source": [
    "## Status"
   ]
  },
  {
   "cell_type": "code",
   "execution_count": 26,
   "metadata": {},
   "outputs": [
    {
     "data": {
      "text/plain": [
       "Status\n",
       "Shipped                          77700\n",
       "Shipped - Delivered to Buyer     28756\n",
       "Cancelled                        18333\n",
       "Shipped - Returned to Seller      1954\n",
       "Shipped - Picked Up                973\n",
       "Pending                            658\n",
       "Pending - Waiting for Pick Up      281\n",
       "Shipped - Returning to Seller      145\n",
       "Shipped - Out for Delivery          35\n",
       "Shipped - Rejected by Buyer         11\n",
       "Shipped - Lost in Transit            5\n",
       "Shipped - Damaged                    1\n",
       "Name: count, dtype: int64"
      ]
     },
     "execution_count": 26,
     "metadata": {},
     "output_type": "execute_result"
    }
   ],
   "source": [
    "df.Status.value_counts()"
   ]
  },
  {
   "cell_type": "code",
   "execution_count": 27,
   "metadata": {},
   "outputs": [
    {
     "data": {
      "text/plain": [
       "array(['Cancelled', 'Shipped - Delivered to Buyer', 'Shipped',\n",
       "       'Shipped - Returned to Seller', 'Shipped - Rejected by Buyer',\n",
       "       'Shipped - Lost in Transit', 'Shipped - Out for Delivery',\n",
       "       'Shipped - Returning to Seller', 'Shipped - Picked Up', 'Pending',\n",
       "       'Pending - Waiting for Pick Up', 'Shipped - Damaged'], dtype=object)"
      ]
     },
     "execution_count": 27,
     "metadata": {},
     "output_type": "execute_result"
    }
   ],
   "source": [
    "df.Status.unique()"
   ]
  },
  {
   "cell_type": "code",
   "execution_count": 28,
   "metadata": {},
   "outputs": [],
   "source": [
    "status_mapping = {\n",
    "    'Shipped': 'Shipped',\n",
    "    'Shipped - Delivered to Buyer': 'Shipped',\n",
    "    'Shipped - Returned to Seller': 'Shipped',\n",
    "    'Shipped - Picked Up': 'Shipped',\n",
    "    'Shipped - Out for Delivery': 'Shipped',\n",
    "    'Shipped - Returning to Seller': 'Shipped',\n",
    "    'Shipped - Rejected by Buyer': 'Shipped',\n",
    "    'Shipped - Lost in Transit': 'Shipped',\n",
    "    'Shipped - Damaged': 'Shipped',\n",
    "    'Pending': 'Pending',\n",
    "    'Pending - Waiting for Pick Up': 'Pending',\n",
    "    'Cancelled': 'Cancelled'\n",
    "}\n",
    "\n",
    "# Apply the mapping to consolidate the statuses\n",
    "df['Status'] = df['Status'].map(status_mapping)\n",
    "\n",
    "\n"
   ]
  },
  {
   "cell_type": "code",
   "execution_count": 29,
   "metadata": {},
   "outputs": [
    {
     "data": {
      "text/plain": [
       "Status\n",
       "Shipped      109580\n",
       "Cancelled     18333\n",
       "Pending         939\n",
       "Name: count, dtype: int64"
      ]
     },
     "execution_count": 29,
     "metadata": {},
     "output_type": "execute_result"
    }
   ],
   "source": [
    "df.Status.value_counts()"
   ]
  },
  {
   "cell_type": "markdown",
   "metadata": {},
   "source": [
    "## Fulfilment"
   ]
  },
  {
   "cell_type": "code",
   "execution_count": 30,
   "metadata": {},
   "outputs": [
    {
     "data": {
      "text/plain": [
       "Fulfilment\n",
       "Amazon      89589\n",
       "Merchant    39263\n",
       "Name: count, dtype: int64"
      ]
     },
     "execution_count": 30,
     "metadata": {},
     "output_type": "execute_result"
    }
   ],
   "source": [
    "df['Fulfilment'].value_counts()"
   ]
  },
  {
   "cell_type": "markdown",
   "metadata": {},
   "source": [
    "## Sales Channel"
   ]
  },
  {
   "cell_type": "code",
   "execution_count": 31,
   "metadata": {},
   "outputs": [
    {
     "data": {
      "text/plain": [
       "Sales Channel\n",
       "Amazon.in    128852\n",
       "Name: count, dtype: int64"
      ]
     },
     "execution_count": 31,
     "metadata": {},
     "output_type": "execute_result"
    }
   ],
   "source": [
    "df['Sales Channel'].value_counts()"
   ]
  },
  {
   "cell_type": "code",
   "execution_count": 32,
   "metadata": {},
   "outputs": [],
   "source": [
    "df = df.drop('Sales Channel', axis=1)"
   ]
  },
  {
   "cell_type": "markdown",
   "metadata": {},
   "source": [
    "## ship-service-level"
   ]
  },
  {
   "cell_type": "code",
   "execution_count": 33,
   "metadata": {},
   "outputs": [
    {
     "data": {
      "text/plain": [
       "ship-service-level\n",
       "Expedited    88630\n",
       "Standard     40222\n",
       "Name: count, dtype: int64"
      ]
     },
     "execution_count": 33,
     "metadata": {},
     "output_type": "execute_result"
    }
   ],
   "source": [
    "df['ship-service-level'].value_counts()"
   ]
  },
  {
   "cell_type": "markdown",
   "metadata": {},
   "source": [
    "## Category"
   ]
  },
  {
   "cell_type": "code",
   "execution_count": 34,
   "metadata": {},
   "outputs": [
    {
     "data": {
      "text/plain": [
       "Category\n",
       "T-shirt     50232\n",
       "Shirt       49826\n",
       "Blazzer     15496\n",
       "Trousers    10612\n",
       "Perfume      1157\n",
       "Wallet        922\n",
       "Socks         439\n",
       "Shoes         165\n",
       "Watch           3\n",
       "Name: count, dtype: int64"
      ]
     },
     "execution_count": 34,
     "metadata": {},
     "output_type": "execute_result"
    }
   ],
   "source": [
    "df['Category'].value_counts()"
   ]
  },
  {
   "cell_type": "markdown",
   "metadata": {},
   "source": [
    "## Size"
   ]
  },
  {
   "cell_type": "code",
   "execution_count": 35,
   "metadata": {},
   "outputs": [
    {
     "data": {
      "text/plain": [
       "Size\n",
       "M       22353\n",
       "L       21787\n",
       "XL      20528\n",
       "XXL     17792\n",
       "S       16759\n",
       "3XL     14630\n",
       "XS      11043\n",
       "Free     2247\n",
       "6XL       737\n",
       "5XL       549\n",
       "4XL       427\n",
       "Name: count, dtype: int64"
      ]
     },
     "execution_count": 35,
     "metadata": {},
     "output_type": "execute_result"
    }
   ],
   "source": [
    "df['Size'].value_counts()"
   ]
  },
  {
   "cell_type": "code",
   "execution_count": 36,
   "metadata": {},
   "outputs": [
    {
     "data": {
      "text/plain": [
       "(128852,)"
      ]
     },
     "execution_count": 36,
     "metadata": {},
     "output_type": "execute_result"
    }
   ],
   "source": [
    "df['Size'].shape"
   ]
  },
  {
   "cell_type": "markdown",
   "metadata": {},
   "source": [
    "## courier status"
   ]
  },
  {
   "cell_type": "code",
   "execution_count": 37,
   "metadata": {},
   "outputs": [],
   "source": [
    "df = df.drop('Courier Status', axis=1)"
   ]
  },
  {
   "cell_type": "markdown",
   "metadata": {},
   "source": [
    "## Qty"
   ]
  },
  {
   "cell_type": "code",
   "execution_count": 38,
   "metadata": {},
   "outputs": [
    {
     "data": {
      "text/plain": [
       "Qty\n",
       "1    115664\n",
       "0     12810\n",
       "2       336\n",
       "3        31\n",
       "4         8\n",
       "5         2\n",
       "8         1\n",
       "Name: count, dtype: int64"
      ]
     },
     "execution_count": 38,
     "metadata": {},
     "output_type": "execute_result"
    }
   ],
   "source": [
    "df.Qty.value_counts()"
   ]
  },
  {
   "cell_type": "code",
   "execution_count": 39,
   "metadata": {},
   "outputs": [
    {
     "data": {
      "text/html": [
       "<div>\n",
       "<style scoped>\n",
       "    .dataframe tbody tr th:only-of-type {\n",
       "        vertical-align: middle;\n",
       "    }\n",
       "\n",
       "    .dataframe tbody tr th {\n",
       "        vertical-align: top;\n",
       "    }\n",
       "\n",
       "    .dataframe thead th {\n",
       "        text-align: right;\n",
       "    }\n",
       "</style>\n",
       "<table border=\"1\" class=\"dataframe\">\n",
       "  <thead>\n",
       "    <tr style=\"text-align: right;\">\n",
       "      <th></th>\n",
       "      <th>Status</th>\n",
       "      <th>Qty</th>\n",
       "    </tr>\n",
       "  </thead>\n",
       "  <tbody>\n",
       "    <tr>\n",
       "      <th>0</th>\n",
       "      <td>Cancelled</td>\n",
       "      <td>5655</td>\n",
       "    </tr>\n",
       "    <tr>\n",
       "      <th>1</th>\n",
       "      <td>Pending</td>\n",
       "      <td>940</td>\n",
       "    </tr>\n",
       "    <tr>\n",
       "      <th>2</th>\n",
       "      <td>Shipped</td>\n",
       "      <td>109884</td>\n",
       "    </tr>\n",
       "  </tbody>\n",
       "</table>\n",
       "</div>"
      ],
      "text/plain": [
       "      Status     Qty\n",
       "0  Cancelled    5655\n",
       "1    Pending     940\n",
       "2    Shipped  109884"
      ]
     },
     "execution_count": 39,
     "metadata": {},
     "output_type": "execute_result"
    }
   ],
   "source": [
    "df.groupby('Status')['Qty'].sum().reset_index()"
   ]
  },
  {
   "cell_type": "code",
   "execution_count": 40,
   "metadata": {},
   "outputs": [
    {
     "name": "stdout",
     "output_type": "stream",
     "text": [
      "104\n",
      "2\n",
      "12704\n"
     ]
    }
   ],
   "source": [
    "print(len(df[(df['Qty'] == 0) & (df['Status'] == 'Shipped')]))\n",
    "print(len(df[(df['Qty'] == 0) & (df['Status'] == 'Pending')]))\n",
    "print(len(df[(df['Qty'] == 0) & (df['Status'] == 'Cancelled')]))\n"
   ]
  },
  {
   "cell_type": "code",
   "execution_count": null,
   "metadata": {},
   "outputs": [],
   "source": []
  },
  {
   "cell_type": "markdown",
   "metadata": {},
   "source": [
    "## Amount"
   ]
  },
  {
   "cell_type": "code",
   "execution_count": 41,
   "metadata": {},
   "outputs": [
    {
     "data": {
      "text/plain": [
       "Order ID                 0\n",
       "Status                   0\n",
       "Fulfilment               0\n",
       "ship-service-level       0\n",
       "Category                 0\n",
       "Size                     0\n",
       "Qty                      0\n",
       "Amount                7676\n",
       "ship-city               35\n",
       "ship-state              35\n",
       "ship-postal-code        35\n",
       "year                     0\n",
       "month                    0\n",
       "day                      0\n",
       "dtype: int64"
      ]
     },
     "execution_count": 41,
     "metadata": {},
     "output_type": "execute_result"
    }
   ],
   "source": [
    "df.isnull().sum()"
   ]
  },
  {
   "cell_type": "code",
   "execution_count": 42,
   "metadata": {},
   "outputs": [
    {
     "data": {
      "text/html": [
       "<div>\n",
       "<style scoped>\n",
       "    .dataframe tbody tr th:only-of-type {\n",
       "        vertical-align: middle;\n",
       "    }\n",
       "\n",
       "    .dataframe tbody tr th {\n",
       "        vertical-align: top;\n",
       "    }\n",
       "\n",
       "    .dataframe thead th {\n",
       "        text-align: right;\n",
       "    }\n",
       "</style>\n",
       "<table border=\"1\" class=\"dataframe\">\n",
       "  <thead>\n",
       "    <tr style=\"text-align: right;\">\n",
       "      <th></th>\n",
       "      <th>Order ID</th>\n",
       "      <th>Status</th>\n",
       "      <th>Fulfilment</th>\n",
       "      <th>ship-service-level</th>\n",
       "      <th>Category</th>\n",
       "      <th>Size</th>\n",
       "      <th>Qty</th>\n",
       "      <th>Amount</th>\n",
       "      <th>ship-city</th>\n",
       "      <th>ship-state</th>\n",
       "      <th>ship-postal-code</th>\n",
       "      <th>year</th>\n",
       "      <th>month</th>\n",
       "      <th>day</th>\n",
       "    </tr>\n",
       "  </thead>\n",
       "  <tbody>\n",
       "    <tr>\n",
       "      <th>8</th>\n",
       "      <td>40754430245233168</td>\n",
       "      <td>Cancelled</td>\n",
       "      <td>Amazon</td>\n",
       "      <td>Expedited</td>\n",
       "      <td>T-shirt</td>\n",
       "      <td>3XL</td>\n",
       "      <td>0</td>\n",
       "      <td>NaN</td>\n",
       "      <td>HYDERABAD</td>\n",
       "      <td>TELANGANA</td>\n",
       "      <td>500008.0</td>\n",
       "      <td>2022</td>\n",
       "      <td>4</td>\n",
       "      <td>30</td>\n",
       "    </tr>\n",
       "    <tr>\n",
       "      <th>29</th>\n",
       "      <td>40459334028801952</td>\n",
       "      <td>Cancelled</td>\n",
       "      <td>Merchant</td>\n",
       "      <td>Standard</td>\n",
       "      <td>Shirt</td>\n",
       "      <td>3XL</td>\n",
       "      <td>0</td>\n",
       "      <td>NaN</td>\n",
       "      <td>GUWAHATI</td>\n",
       "      <td>ASSAM</td>\n",
       "      <td>781003.0</td>\n",
       "      <td>2022</td>\n",
       "      <td>4</td>\n",
       "      <td>30</td>\n",
       "    </tr>\n",
       "    <tr>\n",
       "      <th>65</th>\n",
       "      <td>17141375480481151</td>\n",
       "      <td>Cancelled</td>\n",
       "      <td>Amazon</td>\n",
       "      <td>Expedited</td>\n",
       "      <td>Shirt</td>\n",
       "      <td>XXL</td>\n",
       "      <td>0</td>\n",
       "      <td>NaN</td>\n",
       "      <td>Dahod</td>\n",
       "      <td>Gujarat</td>\n",
       "      <td>389151.0</td>\n",
       "      <td>2022</td>\n",
       "      <td>4</td>\n",
       "      <td>30</td>\n",
       "    </tr>\n",
       "    <tr>\n",
       "      <th>84</th>\n",
       "      <td>40399505180349133</td>\n",
       "      <td>Cancelled</td>\n",
       "      <td>Amazon</td>\n",
       "      <td>Expedited</td>\n",
       "      <td>Shirt</td>\n",
       "      <td>M</td>\n",
       "      <td>0</td>\n",
       "      <td>NaN</td>\n",
       "      <td>HYDERABAD</td>\n",
       "      <td>TELANGANA</td>\n",
       "      <td>500072.0</td>\n",
       "      <td>2022</td>\n",
       "      <td>4</td>\n",
       "      <td>30</td>\n",
       "    </tr>\n",
       "    <tr>\n",
       "      <th>95</th>\n",
       "      <td>40591120893379536</td>\n",
       "      <td>Cancelled</td>\n",
       "      <td>Amazon</td>\n",
       "      <td>Expedited</td>\n",
       "      <td>Shirt</td>\n",
       "      <td>L</td>\n",
       "      <td>0</td>\n",
       "      <td>NaN</td>\n",
       "      <td>PUNE</td>\n",
       "      <td>MAHARASHTRA</td>\n",
       "      <td>411046.0</td>\n",
       "      <td>2022</td>\n",
       "      <td>4</td>\n",
       "      <td>30</td>\n",
       "    </tr>\n",
       "    <tr>\n",
       "      <th>...</th>\n",
       "      <td>...</td>\n",
       "      <td>...</td>\n",
       "      <td>...</td>\n",
       "      <td>...</td>\n",
       "      <td>...</td>\n",
       "      <td>...</td>\n",
       "      <td>...</td>\n",
       "      <td>...</td>\n",
       "      <td>...</td>\n",
       "      <td>...</td>\n",
       "      <td>...</td>\n",
       "      <td>...</td>\n",
       "      <td>...</td>\n",
       "      <td>...</td>\n",
       "    </tr>\n",
       "    <tr>\n",
       "      <th>128904</th>\n",
       "      <td>40639231204345139</td>\n",
       "      <td>Cancelled</td>\n",
       "      <td>Amazon</td>\n",
       "      <td>Expedited</td>\n",
       "      <td>Shirt</td>\n",
       "      <td>M</td>\n",
       "      <td>0</td>\n",
       "      <td>NaN</td>\n",
       "      <td>ANANTAPUR</td>\n",
       "      <td>ANDHRA PRADESH</td>\n",
       "      <td>515001.0</td>\n",
       "      <td>2022</td>\n",
       "      <td>5</td>\n",
       "      <td>31</td>\n",
       "    </tr>\n",
       "    <tr>\n",
       "      <th>128908</th>\n",
       "      <td>40367574036097100</td>\n",
       "      <td>Cancelled</td>\n",
       "      <td>Amazon</td>\n",
       "      <td>Expedited</td>\n",
       "      <td>T-shirt</td>\n",
       "      <td>3XL</td>\n",
       "      <td>0</td>\n",
       "      <td>NaN</td>\n",
       "      <td>GREATER NOIDA</td>\n",
       "      <td>UTTAR PRADESH</td>\n",
       "      <td>201306.0</td>\n",
       "      <td>2022</td>\n",
       "      <td>5</td>\n",
       "      <td>31</td>\n",
       "    </tr>\n",
       "    <tr>\n",
       "      <th>128909</th>\n",
       "      <td>40367574036097100</td>\n",
       "      <td>Cancelled</td>\n",
       "      <td>Amazon</td>\n",
       "      <td>Expedited</td>\n",
       "      <td>T-shirt</td>\n",
       "      <td>3XL</td>\n",
       "      <td>0</td>\n",
       "      <td>NaN</td>\n",
       "      <td>GREATER NOIDA</td>\n",
       "      <td>UTTAR PRADESH</td>\n",
       "      <td>201306.0</td>\n",
       "      <td>2022</td>\n",
       "      <td>5</td>\n",
       "      <td>31</td>\n",
       "    </tr>\n",
       "    <tr>\n",
       "      <th>128959</th>\n",
       "      <td>40895135964393945</td>\n",
       "      <td>Cancelled</td>\n",
       "      <td>Amazon</td>\n",
       "      <td>Expedited</td>\n",
       "      <td>T-shirt</td>\n",
       "      <td>L</td>\n",
       "      <td>0</td>\n",
       "      <td>NaN</td>\n",
       "      <td>Bengaluru</td>\n",
       "      <td>KARNATAKA</td>\n",
       "      <td>560037.0</td>\n",
       "      <td>2022</td>\n",
       "      <td>5</td>\n",
       "      <td>31</td>\n",
       "    </tr>\n",
       "    <tr>\n",
       "      <th>128968</th>\n",
       "      <td>40451822881653947</td>\n",
       "      <td>Cancelled</td>\n",
       "      <td>Amazon</td>\n",
       "      <td>Expedited</td>\n",
       "      <td>Shirt</td>\n",
       "      <td>XS</td>\n",
       "      <td>0</td>\n",
       "      <td>NaN</td>\n",
       "      <td>Kolkata</td>\n",
       "      <td>WEST BENGAL</td>\n",
       "      <td>700040.0</td>\n",
       "      <td>2022</td>\n",
       "      <td>5</td>\n",
       "      <td>31</td>\n",
       "    </tr>\n",
       "  </tbody>\n",
       "</table>\n",
       "<p>7570 rows × 14 columns</p>\n",
       "</div>"
      ],
      "text/plain": [
       "                 Order ID     Status Fulfilment ship-service-level Category  \\\n",
       "8       40754430245233168  Cancelled     Amazon          Expedited  T-shirt   \n",
       "29      40459334028801952  Cancelled   Merchant           Standard    Shirt   \n",
       "65      17141375480481151  Cancelled     Amazon          Expedited    Shirt   \n",
       "84      40399505180349133  Cancelled     Amazon          Expedited    Shirt   \n",
       "95      40591120893379536  Cancelled     Amazon          Expedited    Shirt   \n",
       "...                   ...        ...        ...                ...      ...   \n",
       "128904  40639231204345139  Cancelled     Amazon          Expedited    Shirt   \n",
       "128908  40367574036097100  Cancelled     Amazon          Expedited  T-shirt   \n",
       "128909  40367574036097100  Cancelled     Amazon          Expedited  T-shirt   \n",
       "128959  40895135964393945  Cancelled     Amazon          Expedited  T-shirt   \n",
       "128968  40451822881653947  Cancelled     Amazon          Expedited    Shirt   \n",
       "\n",
       "       Size  Qty  Amount      ship-city      ship-state  ship-postal-code  \\\n",
       "8       3XL    0     NaN      HYDERABAD       TELANGANA          500008.0   \n",
       "29      3XL    0     NaN       GUWAHATI           ASSAM          781003.0   \n",
       "65      XXL    0     NaN          Dahod         Gujarat          389151.0   \n",
       "84        M    0     NaN      HYDERABAD       TELANGANA          500072.0   \n",
       "95        L    0     NaN           PUNE     MAHARASHTRA          411046.0   \n",
       "...     ...  ...     ...            ...             ...               ...   \n",
       "128904    M    0     NaN      ANANTAPUR  ANDHRA PRADESH          515001.0   \n",
       "128908  3XL    0     NaN  GREATER NOIDA   UTTAR PRADESH          201306.0   \n",
       "128909  3XL    0     NaN  GREATER NOIDA   UTTAR PRADESH          201306.0   \n",
       "128959    L    0     NaN      Bengaluru       KARNATAKA          560037.0   \n",
       "128968   XS    0     NaN        Kolkata     WEST BENGAL          700040.0   \n",
       "\n",
       "        year  month  day  \n",
       "8       2022      4   30  \n",
       "29      2022      4   30  \n",
       "65      2022      4   30  \n",
       "84      2022      4   30  \n",
       "95      2022      4   30  \n",
       "...      ...    ...  ...  \n",
       "128904  2022      5   31  \n",
       "128908  2022      5   31  \n",
       "128909  2022      5   31  \n",
       "128959  2022      5   31  \n",
       "128968  2022      5   31  \n",
       "\n",
       "[7570 rows x 14 columns]"
      ]
     },
     "execution_count": 42,
     "metadata": {},
     "output_type": "execute_result"
    }
   ],
   "source": [
    "df[(df['Status'] == 'Cancelled') & (df['Amount'].isna())]"
   ]
  },
  {
   "cell_type": "code",
   "execution_count": 43,
   "metadata": {},
   "outputs": [],
   "source": [
    "df['Amount'] = df['Amount'].fillna(0)"
   ]
  },
  {
   "cell_type": "code",
   "execution_count": 44,
   "metadata": {},
   "outputs": [
    {
     "data": {
      "text/html": [
       "<div>\n",
       "<style scoped>\n",
       "    .dataframe tbody tr th:only-of-type {\n",
       "        vertical-align: middle;\n",
       "    }\n",
       "\n",
       "    .dataframe tbody tr th {\n",
       "        vertical-align: top;\n",
       "    }\n",
       "\n",
       "    .dataframe thead th {\n",
       "        text-align: right;\n",
       "    }\n",
       "</style>\n",
       "<table border=\"1\" class=\"dataframe\">\n",
       "  <thead>\n",
       "    <tr style=\"text-align: right;\">\n",
       "      <th></th>\n",
       "      <th>Status</th>\n",
       "      <th>Amount</th>\n",
       "    </tr>\n",
       "  </thead>\n",
       "  <tbody>\n",
       "    <tr>\n",
       "      <th>0</th>\n",
       "      <td>Cancelled</td>\n",
       "      <td>18333</td>\n",
       "    </tr>\n",
       "    <tr>\n",
       "      <th>1</th>\n",
       "      <td>Pending</td>\n",
       "      <td>939</td>\n",
       "    </tr>\n",
       "    <tr>\n",
       "      <th>2</th>\n",
       "      <td>Shipped</td>\n",
       "      <td>109580</td>\n",
       "    </tr>\n",
       "  </tbody>\n",
       "</table>\n",
       "</div>"
      ],
      "text/plain": [
       "      Status  Amount\n",
       "0  Cancelled   18333\n",
       "1    Pending     939\n",
       "2    Shipped  109580"
      ]
     },
     "execution_count": 44,
     "metadata": {},
     "output_type": "execute_result"
    }
   ],
   "source": [
    "df.groupby('Status')['Amount'].count().reset_index()"
   ]
  },
  {
   "cell_type": "code",
   "execution_count": 45,
   "metadata": {},
   "outputs": [
    {
     "data": {
      "text/html": [
       "<div>\n",
       "<style scoped>\n",
       "    .dataframe tbody tr th:only-of-type {\n",
       "        vertical-align: middle;\n",
       "    }\n",
       "\n",
       "    .dataframe tbody tr th {\n",
       "        vertical-align: top;\n",
       "    }\n",
       "\n",
       "    .dataframe thead th {\n",
       "        text-align: right;\n",
       "    }\n",
       "</style>\n",
       "<table border=\"1\" class=\"dataframe\">\n",
       "  <thead>\n",
       "    <tr style=\"text-align: right;\">\n",
       "      <th></th>\n",
       "      <th>Order ID</th>\n",
       "      <th>Status</th>\n",
       "      <th>Fulfilment</th>\n",
       "      <th>ship-service-level</th>\n",
       "      <th>Category</th>\n",
       "      <th>Size</th>\n",
       "      <th>Qty</th>\n",
       "      <th>Amount</th>\n",
       "      <th>ship-city</th>\n",
       "      <th>ship-state</th>\n",
       "      <th>ship-postal-code</th>\n",
       "      <th>year</th>\n",
       "      <th>month</th>\n",
       "      <th>day</th>\n",
       "    </tr>\n",
       "  </thead>\n",
       "  <tbody>\n",
       "    <tr>\n",
       "      <th>0</th>\n",
       "      <td>40580787845731545</td>\n",
       "      <td>Cancelled</td>\n",
       "      <td>Merchant</td>\n",
       "      <td>Standard</td>\n",
       "      <td>T-shirt</td>\n",
       "      <td>S</td>\n",
       "      <td>0</td>\n",
       "      <td>647.62</td>\n",
       "      <td>MUMBAI</td>\n",
       "      <td>MAHARASHTRA</td>\n",
       "      <td>400081.0</td>\n",
       "      <td>2022</td>\n",
       "      <td>4</td>\n",
       "      <td>30</td>\n",
       "    </tr>\n",
       "    <tr>\n",
       "      <th>3</th>\n",
       "      <td>40396153778133951</td>\n",
       "      <td>Cancelled</td>\n",
       "      <td>Merchant</td>\n",
       "      <td>Standard</td>\n",
       "      <td>Blazzer</td>\n",
       "      <td>L</td>\n",
       "      <td>0</td>\n",
       "      <td>753.33</td>\n",
       "      <td>PUDUCHERRY</td>\n",
       "      <td>PUDUCHERRY</td>\n",
       "      <td>605008.0</td>\n",
       "      <td>2022</td>\n",
       "      <td>4</td>\n",
       "      <td>30</td>\n",
       "    </tr>\n",
       "    <tr>\n",
       "      <th>23</th>\n",
       "      <td>40460199462909948</td>\n",
       "      <td>Cancelled</td>\n",
       "      <td>Merchant</td>\n",
       "      <td>Standard</td>\n",
       "      <td>T-shirt</td>\n",
       "      <td>M</td>\n",
       "      <td>0</td>\n",
       "      <td>570.48</td>\n",
       "      <td>pune</td>\n",
       "      <td>MAHARASHTRA</td>\n",
       "      <td>411044.0</td>\n",
       "      <td>2022</td>\n",
       "      <td>4</td>\n",
       "      <td>30</td>\n",
       "    </tr>\n",
       "    <tr>\n",
       "      <th>83</th>\n",
       "      <td>40465225539345930</td>\n",
       "      <td>Cancelled</td>\n",
       "      <td>Merchant</td>\n",
       "      <td>Standard</td>\n",
       "      <td>T-shirt</td>\n",
       "      <td>M</td>\n",
       "      <td>0</td>\n",
       "      <td>1105.36</td>\n",
       "      <td>DEHRADUN</td>\n",
       "      <td>UTTARAKHAND</td>\n",
       "      <td>248001.0</td>\n",
       "      <td>2022</td>\n",
       "      <td>4</td>\n",
       "      <td>30</td>\n",
       "    </tr>\n",
       "    <tr>\n",
       "      <th>116</th>\n",
       "      <td>40301048827373900</td>\n",
       "      <td>Cancelled</td>\n",
       "      <td>Amazon</td>\n",
       "      <td>Expedited</td>\n",
       "      <td>Blazzer</td>\n",
       "      <td>XXL</td>\n",
       "      <td>1</td>\n",
       "      <td>791.00</td>\n",
       "      <td>HIMMATNAGAR</td>\n",
       "      <td>Gujarat</td>\n",
       "      <td>383001.0</td>\n",
       "      <td>2022</td>\n",
       "      <td>4</td>\n",
       "      <td>30</td>\n",
       "    </tr>\n",
       "    <tr>\n",
       "      <th>...</th>\n",
       "      <td>...</td>\n",
       "      <td>...</td>\n",
       "      <td>...</td>\n",
       "      <td>...</td>\n",
       "      <td>...</td>\n",
       "      <td>...</td>\n",
       "      <td>...</td>\n",
       "      <td>...</td>\n",
       "      <td>...</td>\n",
       "      <td>...</td>\n",
       "      <td>...</td>\n",
       "      <td>...</td>\n",
       "      <td>...</td>\n",
       "      <td>...</td>\n",
       "    </tr>\n",
       "    <tr>\n",
       "      <th>128952</th>\n",
       "      <td>40413857465321913</td>\n",
       "      <td>Cancelled</td>\n",
       "      <td>Amazon</td>\n",
       "      <td>Expedited</td>\n",
       "      <td>Blazzer</td>\n",
       "      <td>XL</td>\n",
       "      <td>1</td>\n",
       "      <td>825.00</td>\n",
       "      <td>MUMBAI</td>\n",
       "      <td>MAHARASHTRA</td>\n",
       "      <td>400016.0</td>\n",
       "      <td>2022</td>\n",
       "      <td>5</td>\n",
       "      <td>31</td>\n",
       "    </tr>\n",
       "    <tr>\n",
       "      <th>128962</th>\n",
       "      <td>40200822046323568</td>\n",
       "      <td>Cancelled</td>\n",
       "      <td>Amazon</td>\n",
       "      <td>Expedited</td>\n",
       "      <td>Blazzer</td>\n",
       "      <td>XL</td>\n",
       "      <td>1</td>\n",
       "      <td>771.00</td>\n",
       "      <td>Junagadh</td>\n",
       "      <td>Gujarat</td>\n",
       "      <td>362001.0</td>\n",
       "      <td>2022</td>\n",
       "      <td>5</td>\n",
       "      <td>31</td>\n",
       "    </tr>\n",
       "    <tr>\n",
       "      <th>128963</th>\n",
       "      <td>40898037246565965</td>\n",
       "      <td>Cancelled</td>\n",
       "      <td>Amazon</td>\n",
       "      <td>Expedited</td>\n",
       "      <td>Shirt</td>\n",
       "      <td>L</td>\n",
       "      <td>1</td>\n",
       "      <td>665.00</td>\n",
       "      <td>MUMBAI</td>\n",
       "      <td>MAHARASHTRA</td>\n",
       "      <td>400056.0</td>\n",
       "      <td>2022</td>\n",
       "      <td>5</td>\n",
       "      <td>31</td>\n",
       "    </tr>\n",
       "    <tr>\n",
       "      <th>128966</th>\n",
       "      <td>40851542814593912</td>\n",
       "      <td>Cancelled</td>\n",
       "      <td>Amazon</td>\n",
       "      <td>Expedited</td>\n",
       "      <td>Trousers</td>\n",
       "      <td>3XL</td>\n",
       "      <td>1</td>\n",
       "      <td>574.00</td>\n",
       "      <td>Prayagraj (ALLAHABAD)</td>\n",
       "      <td>UTTAR PRADESH</td>\n",
       "      <td>211007.0</td>\n",
       "      <td>2022</td>\n",
       "      <td>5</td>\n",
       "      <td>31</td>\n",
       "    </tr>\n",
       "    <tr>\n",
       "      <th>128970</th>\n",
       "      <td>40438026337250760</td>\n",
       "      <td>Cancelled</td>\n",
       "      <td>Amazon</td>\n",
       "      <td>Expedited</td>\n",
       "      <td>T-shirt</td>\n",
       "      <td>M</td>\n",
       "      <td>1</td>\n",
       "      <td>612.00</td>\n",
       "      <td>MUMBAI</td>\n",
       "      <td>MAHARASHTRA</td>\n",
       "      <td>400017.0</td>\n",
       "      <td>2022</td>\n",
       "      <td>5</td>\n",
       "      <td>31</td>\n",
       "    </tr>\n",
       "  </tbody>\n",
       "</table>\n",
       "<p>10763 rows × 14 columns</p>\n",
       "</div>"
      ],
      "text/plain": [
       "                 Order ID     Status Fulfilment ship-service-level  Category  \\\n",
       "0       40580787845731545  Cancelled   Merchant           Standard   T-shirt   \n",
       "3       40396153778133951  Cancelled   Merchant           Standard   Blazzer   \n",
       "23      40460199462909948  Cancelled   Merchant           Standard   T-shirt   \n",
       "83      40465225539345930  Cancelled   Merchant           Standard   T-shirt   \n",
       "116     40301048827373900  Cancelled     Amazon          Expedited   Blazzer   \n",
       "...                   ...        ...        ...                ...       ...   \n",
       "128952  40413857465321913  Cancelled     Amazon          Expedited   Blazzer   \n",
       "128962  40200822046323568  Cancelled     Amazon          Expedited   Blazzer   \n",
       "128963  40898037246565965  Cancelled     Amazon          Expedited     Shirt   \n",
       "128966  40851542814593912  Cancelled     Amazon          Expedited  Trousers   \n",
       "128970  40438026337250760  Cancelled     Amazon          Expedited   T-shirt   \n",
       "\n",
       "       Size  Qty   Amount              ship-city     ship-state  \\\n",
       "0         S    0   647.62                 MUMBAI    MAHARASHTRA   \n",
       "3         L    0   753.33             PUDUCHERRY     PUDUCHERRY   \n",
       "23        M    0   570.48                   pune    MAHARASHTRA   \n",
       "83        M    0  1105.36               DEHRADUN    UTTARAKHAND   \n",
       "116     XXL    1   791.00            HIMMATNAGAR        Gujarat   \n",
       "...     ...  ...      ...                    ...            ...   \n",
       "128952   XL    1   825.00                 MUMBAI    MAHARASHTRA   \n",
       "128962   XL    1   771.00               Junagadh        Gujarat   \n",
       "128963    L    1   665.00                 MUMBAI    MAHARASHTRA   \n",
       "128966  3XL    1   574.00  Prayagraj (ALLAHABAD)  UTTAR PRADESH   \n",
       "128970    M    1   612.00                 MUMBAI    MAHARASHTRA   \n",
       "\n",
       "        ship-postal-code  year  month  day  \n",
       "0               400081.0  2022      4   30  \n",
       "3               605008.0  2022      4   30  \n",
       "23              411044.0  2022      4   30  \n",
       "83              248001.0  2022      4   30  \n",
       "116             383001.0  2022      4   30  \n",
       "...                  ...   ...    ...  ...  \n",
       "128952          400016.0  2022      5   31  \n",
       "128962          362001.0  2022      5   31  \n",
       "128963          400056.0  2022      5   31  \n",
       "128966          211007.0  2022      5   31  \n",
       "128970          400017.0  2022      5   31  \n",
       "\n",
       "[10763 rows x 14 columns]"
      ]
     },
     "execution_count": 45,
     "metadata": {},
     "output_type": "execute_result"
    }
   ],
   "source": [
    "df[(df['Amount'] != 0) & (df['Status'] == 'Cancelled') & (df['Amount'].notna())]\n"
   ]
  },
  {
   "cell_type": "markdown",
   "metadata": {},
   "source": [
    "## ship city"
   ]
  },
  {
   "cell_type": "code",
   "execution_count": 46,
   "metadata": {},
   "outputs": [
    {
     "data": {
      "text/plain": [
       "8948"
      ]
     },
     "execution_count": 46,
     "metadata": {},
     "output_type": "execute_result"
    }
   ],
   "source": [
    "df['ship-city'].nunique()"
   ]
  },
  {
   "cell_type": "code",
   "execution_count": 49,
   "metadata": {},
   "outputs": [],
   "source": [
    "df['ship-city'] = df['ship-city'].str.lower()\n",
    "df['ship-city'] = df['ship-city'].str.replace(' ','')"
   ]
  },
  {
   "cell_type": "code",
   "execution_count": 51,
   "metadata": {},
   "outputs": [
    {
     "data": {
      "text/plain": [
       "7218"
      ]
     },
     "execution_count": 51,
     "metadata": {},
     "output_type": "execute_result"
    }
   ],
   "source": [
    "df['ship-city'].nunique()"
   ]
  },
  {
   "cell_type": "code",
   "execution_count": 50,
   "metadata": {},
   "outputs": [
    {
     "data": {
      "text/plain": [
       "ship-city\n",
       "bengaluru           11889\n",
       "hyderabad            9127\n",
       "mumbai               7122\n",
       "newdelhi             6340\n",
       "chennai              6294\n",
       "                    ...  \n",
       "barakar                 1\n",
       "southkalamassery        1\n",
       "chogawan                1\n",
       "bileipada               1\n",
       "hyd                     1\n",
       "Name: count, Length: 7218, dtype: int64"
      ]
     },
     "execution_count": 50,
     "metadata": {},
     "output_type": "execute_result"
    }
   ],
   "source": [
    "df['ship-city'].value_counts()"
   ]
  },
  {
   "cell_type": "code",
   "execution_count": null,
   "metadata": {},
   "outputs": [],
   "source": []
  }
 ],
 "metadata": {
  "kernelspec": {
   "display_name": "Python 3",
   "language": "python",
   "name": "python3"
  },
  "language_info": {
   "codemirror_mode": {
    "name": "ipython",
    "version": 3
   },
   "file_extension": ".py",
   "mimetype": "text/x-python",
   "name": "python",
   "nbconvert_exporter": "python",
   "pygments_lexer": "ipython3",
   "version": "3.12.0"
  }
 },
 "nbformat": 4,
 "nbformat_minor": 2
}
